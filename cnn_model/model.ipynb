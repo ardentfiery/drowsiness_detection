{
 "cells": [
  {
   "cell_type": "code",
   "execution_count": 3,
   "metadata": {},
   "outputs": [],
   "source": [
    "# required packages\n",
    "from tensorflow.keras.models import Sequential\n",
    "from tensorflow.keras.layers import Conv2D, MaxPooling2D, Flatten, Dense, Dropout\n",
    "from tensorflow.keras.preprocessing.image import ImageDataGenerator\n",
    "from tensorflow.keras.models import Model\n",
    "import tensorflow as tf\n",
    "import numpy as np"
   ]
  },
  {
   "cell_type": "code",
   "execution_count": 5,
   "metadata": {},
   "outputs": [
    {
     "name": "stdout",
     "output_type": "stream",
     "text": [
      "Found 25758 images belonging to 2 classes.\n",
      "Found 2132 images belonging to 2 classes.\n",
      "Found 2338 images belonging to 2 classes.\n",
      "Class indices: {'close_eyes': 0, 'open_eyes': 1}\n"
     ]
    }
   ],
   "source": [
    "\n",
    "# Set the path to the dataset\n",
    "dataset_directory = 'dataset'\n",
    "\n",
    "# Define the data generators\n",
    "data_datagen = ImageDataGenerator(rescale=1/255)\n",
    "\n",
    "# Generate the training data\n",
    "train_generator = data_datagen.flow_from_directory(\n",
    "    dataset_directory + '/train',\n",
    "    target_size=(80, 80),\n",
    "    batch_size=32,\n",
    "    color_mode='grayscale',\n",
    "    class_mode='binary'\n",
    "    )\n",
    "\n",
    "# Generate the validation data\n",
    "validation_generator = data_datagen.flow_from_directory(\n",
    "    dataset_directory + '/validation',\n",
    "    target_size=(80, 80),\n",
    "    batch_size=32,\n",
    "    color_mode='grayscale',\n",
    "    class_mode='binary',\n",
    ")\n",
    "\n",
    "# Generate the test data\n",
    "test_generator = data_datagen.flow_from_directory(\n",
    "    dataset_directory + '/test',\n",
    "    target_size=(80, 80),\n",
    "    batch_size=32,\n",
    "    color_mode='grayscale',\n",
    "    class_mode='binary',\n",
    ")\n",
    "\n",
    "# Check the class indices\n",
    "print('Class indices:', train_generator.class_indices)\n"
   ]
  },
  {
   "cell_type": "code",
   "execution_count": 6,
   "metadata": {},
   "outputs": [],
   "source": [
    "# Define the model architecture\n",
    "model = Sequential()\n",
    "model.add(Conv2D(32, (3, 3), activation='relu', padding='same', input_shape=(80, 80, 1)))\n",
    "model.add(MaxPooling2D((2, 2)))\n",
    "model.add(Conv2D(64, (3, 3), activation='relu', padding='same'))\n",
    "model.add(MaxPooling2D((2, 2)))\n",
    "model.add(Conv2D(128, (3, 3), activation='relu', padding='same'))\n",
    "model.add(MaxPooling2D((2, 2)))\n",
    "model.add(Conv2D(256, (3, 3), activation='relu', padding='same'))\n",
    "model.add(MaxPooling2D((2, 2)))\n",
    "model.add(Flatten())\n",
    "model.add(Dense(128, activation='relu'))\n",
    "model.add(Dense(64, activation='relu'))\n",
    "model.add(Dropout(0.5))\n",
    "model.add(Dense(1, activation='sigmoid'))"
   ]
  },
  {
   "cell_type": "code",
   "execution_count": 7,
   "metadata": {},
   "outputs": [],
   "source": [
    "model.compile(loss='binary_crossentropy',\n",
    "              optimizer='adam',\n",
    "              metrics=['accuracy'])"
   ]
  },
  {
   "cell_type": "code",
   "execution_count": 8,
   "metadata": {},
   "outputs": [
    {
     "name": "stdout",
     "output_type": "stream",
     "text": [
      "Epoch 1/8\n",
      "805/805 [==============================] - 312s 383ms/step - loss: 0.5891 - accuracy: 0.6526 - val_loss: 0.3248 - val_accuracy: 0.8612\n",
      "Epoch 2/8\n",
      "805/805 [==============================] - 205s 255ms/step - loss: 0.3483 - accuracy: 0.8349 - val_loss: 0.2065 - val_accuracy: 0.8987\n",
      "Epoch 3/8\n",
      "805/805 [==============================] - 262s 324ms/step - loss: 0.2489 - accuracy: 0.8844 - val_loss: 0.1557 - val_accuracy: 0.9329\n",
      "Epoch 4/8\n",
      "805/805 [==============================] - 270s 335ms/step - loss: 0.2095 - accuracy: 0.9048 - val_loss: 0.1386 - val_accuracy: 0.9451\n",
      "Epoch 5/8\n",
      "805/805 [==============================] - 272s 338ms/step - loss: 0.1886 - accuracy: 0.9141 - val_loss: 0.1387 - val_accuracy: 0.9475\n",
      "Epoch 6/8\n",
      "805/805 [==============================] - 253s 314ms/step - loss: 0.1782 - accuracy: 0.9198 - val_loss: 0.1193 - val_accuracy: 0.9442\n",
      "Epoch 7/8\n",
      "805/805 [==============================] - 252s 313ms/step - loss: 0.1605 - accuracy: 0.9272 - val_loss: 0.0944 - val_accuracy: 0.9583\n",
      "Epoch 8/8\n",
      "805/805 [==============================] - 247s 306ms/step - loss: 0.1561 - accuracy: 0.9309 - val_loss: 0.0904 - val_accuracy: 0.9648\n"
     ]
    },
    {
     "data": {
      "text/plain": [
       "<keras.callbacks.History at 0x21977ef4ca0>"
      ]
     },
     "execution_count": 8,
     "metadata": {},
     "output_type": "execute_result"
    }
   ],
   "source": [
    "# this start training model\n",
    "model.fit(train_generator,\n",
    "          epochs=20,\n",
    "          validation_data=validation_generator,\n",
    "          steps_per_epoch=len(train_generator),\n",
    "          validation_steps=len(validation_generator))\n",
    "        "
   ]
  },
  {
   "cell_type": "code",
   "execution_count": 9,
   "metadata": {},
   "outputs": [],
   "source": [
    "model.save(\"models/naya_aakha.h5\")"
   ]
  },
  {
   "cell_type": "code",
   "execution_count": 10,
   "metadata": {},
   "outputs": [
    {
     "name": "stdout",
     "output_type": "stream",
     "text": [
      "74/74 [==============================] - 37s 501ms/step - loss: 0.1064 - accuracy: 0.9602\n",
      "Test loss: 0.10636173188686371\n",
      "Test accuracy: 0.9602224230766296\n"
     ]
    }
   ],
   "source": [
    "test_loss, test_acc = model.evaluate(test_generator)\n",
    "print('Test loss:', test_loss)\n",
    "print('Test accuracy:', test_acc)\n",
    "\n"
   ]
  }
 ],
 "metadata": {
  "kernelspec": {
   "display_name": "Python 3",
   "language": "python",
   "name": "python3"
  },
  "language_info": {
   "codemirror_mode": {
    "name": "ipython",
    "version": 3
   },
   "file_extension": ".py",
   "mimetype": "text/x-python",
   "name": "python",
   "nbconvert_exporter": "python",
   "pygments_lexer": "ipython3",
   "version": "3.10.10"
  },
  "orig_nbformat": 4
 },
 "nbformat": 4,
 "nbformat_minor": 2
}
